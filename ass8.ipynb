{
 "cells": [
  {
   "cell_type": "code",
   "execution_count": 1,
   "id": "55724f9d-3584-4e0e-9e64-824b4355ca3a",
   "metadata": {},
   "outputs": [
    {
     "name": "stdout",
     "output_type": "stream",
     "text": [
      "Welcome to the banking system!\n"
     ]
    },
    {
     "name": "stdin",
     "output_type": "stream",
     "text": [
      "Enter account number:  0068975159\n",
      "Enter PIN:  9217\n"
     ]
    },
    {
     "name": "stdout",
     "output_type": "stream",
     "text": [
      "Invalid login credentials.\n"
     ]
    }
   ],
   "source": [
    "class BankAccount:\n",
    "    def __init__(self, account_number, pin):\n",
    "        self.account_number = account_number\n",
    "        self.pin = pin\n",
    "        self.balance = 0.0\n",
    "\n",
    "    def login(self, account_number, pin):\n",
    "        if self.account_number == account_number and self.pin == pin:\n",
    "            print(\"Login successful!\")\n",
    "            return True\n",
    "        else:\n",
    "            print(\"Invalid login credentials.\")\n",
    "            return False\n",
    "\n",
    "    def deposit(self, amount):\n",
    "        if amount > 0:\n",
    "            self.balance += amount\n",
    "            print(f\"${amount} deposited successfully. New balance: ${self.balance}\")\n",
    "        else:\n",
    "            print(\"Enter a valid amount to deposit.\")\n",
    "\n",
    "    def withdraw(self, amount):\n",
    "        if amount > self.balance:\n",
    "            print(\"Insufficient balance.\")\n",
    "        elif amount <= 0:\n",
    "            print(\"Enter a valid amount to withdraw.\")\n",
    "        else:\n",
    "            self.balance -= amount\n",
    "            print(f\"${amount} withdrawn successfully. New balance: ${self.balance}\")\n",
    "\n",
    "    def get_balance(self):\n",
    "        print(f\"Current balance: ${self.balance}\")\n",
    "\n",
    "def main():\n",
    "    # Example account\n",
    "    account = BankAccount(account_number=\"12345678\", pin=\"1234\")\n",
    "    \n",
    "    print(\"Welcome to the banking system!\")\n",
    "    entered_account = input(\"Enter account number: \")\n",
    "    entered_pin = input(\"Enter PIN: \")\n",
    "    \n",
    "    if account.login(entered_account, entered_pin):\n",
    "        while True:\n",
    "            print(\"\\n1. Deposit\")\n",
    "            print(\"2. Withdraw\")\n",
    "            print(\"3. Check Balance\")\n",
    "            print(\"4. Exit\")\n",
    "            choice = input(\"Choose an option: \")\n",
    "\n",
    "            if choice == '1':\n",
    "                amount = float(input(\"Enter amount to deposit: \"))\n",
    "                account.deposit(amount)\n",
    "            elif choice == '2':\n",
    "                amount = float(input(\"Enter amount to withdraw: \"))\n",
    "                account.withdraw(amount)\n",
    "            elif choice == '3':\n",
    "                account.get_balance()\n",
    "            elif choice == '4':\n",
    "                print(\"Thank you for using the banking system.\")\n",
    "                break\n",
    "            else:\n",
    "                print(\"Invalid choice. Please try again.\")\n",
    "\n",
    "if __name__ == \"__main__\":\n",
    "    main()\n"
   ]
  },
  {
   "cell_type": "code",
   "execution_count": null,
   "id": "a949d517-8002-4a21-b811-51644514b2e0",
   "metadata": {},
   "outputs": [],
   "source": []
  }
 ],
 "metadata": {
  "kernelspec": {
   "display_name": "Python 3 (ipykernel)",
   "language": "python",
   "name": "python3"
  },
  "language_info": {
   "codemirror_mode": {
    "name": "ipython",
    "version": 3
   },
   "file_extension": ".py",
   "mimetype": "text/x-python",
   "name": "python",
   "nbconvert_exporter": "python",
   "pygments_lexer": "ipython3",
   "version": "3.12.4"
  }
 },
 "nbformat": 4,
 "nbformat_minor": 5
}
