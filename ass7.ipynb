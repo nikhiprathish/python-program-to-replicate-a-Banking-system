{
 "cells": [
  {
   "cell_type": "code",
   "execution_count": 1,
   "id": "04aec000-8eeb-413f-a393-a9bb64f3ee82",
   "metadata": {},
   "outputs": [
    {
     "name": "stdout",
     "output_type": "stream",
     "text": [
      "bike name\n"
     ]
    }
   ],
   "source": [
    "def read_file(filename):\n",
    "    with open(filename, 'r') as file:\n",
    "        contents = file.read()\n",
    "        print(contents)\n",
    "\n",
    "# Usage\n",
    "read_file(\"bike.csv\")\n"
   ]
  },
  {
   "cell_type": "code",
   "execution_count": 2,
   "id": "b8dc2a75-00df-4bcd-8a25-9cdf7f4235a0",
   "metadata": {},
   "outputs": [],
   "source": [
    "def copy_file(source_file, destination_file):\n",
    "    with open(source_file, 'r') as src, open(destination_file, 'w') as dest:\n",
    "        dest.write(src.read())\n",
    "\n",
    "# Usage\n",
    "copy_file(\"excel3.csv\", \"excel2.csv\")\n",
    "\n"
   ]
  },
  {
   "cell_type": "code",
   "execution_count": 3,
   "id": "3dfe26c9-4fe8-48b6-8d8a-991f1a389f09",
   "metadata": {},
   "outputs": [
    {
     "name": "stdout",
     "output_type": "stream",
     "text": [
      "Total words: 49\n"
     ]
    }
   ],
   "source": [
    "def count_words_in_file(filename):\n",
    "    with open(filename, 'r') as file:\n",
    "        contents = file.read()\n",
    "        word_count = len(contents.split())\n",
    "        print(f\"Total words: {word_count}\")\n",
    "\n",
    "# Usage\n",
    "count_words_in_file(\"excel2.csv\")\n"
   ]
  },
  {
   "cell_type": "code",
   "execution_count": 4,
   "id": "02433291-92f3-4c14-b8f7-a0d2a1630930",
   "metadata": {},
   "outputs": [
    {
     "name": "stdout",
     "output_type": "stream",
     "text": [
      "The word 'CLOTHING' occurs 0 times.\n"
     ]
    }
   ],
   "source": [
    "def count_word_occurrences(filename, word):\n",
    "    with open(filename, 'r') as file:\n",
    "        contents = file.read().lower()\n",
    "        occurrences = contents.split().count(word.lower())\n",
    "        print(f\"The word '{word}' occurs {occurrences} times.\")\n",
    "\n",
    "# Usage\n",
    "count_word_occurrences(\"excel3.csv\", \"CLOTHING\")\n"
   ]
  },
  {
   "cell_type": "code",
   "execution_count": 5,
   "id": "e8fee647-bb48-4b68-9671-0ce877e54f90",
   "metadata": {},
   "outputs": [
    {
     "name": "stdin",
     "output_type": "stream",
     "text": [
      "Enter a string to convert to integer:  good morning\n"
     ]
    },
    {
     "name": "stdout",
     "output_type": "stream",
     "text": [
      "Error: The input cannot be converted to an integer.\n"
     ]
    }
   ],
   "source": [
    "def string_to_integer():\n",
    "    try:\n",
    "        user_input = input(\"Enter a string to convert to integer: \")\n",
    "        integer_value = int(user_input)\n",
    "        print(f\"Converted integer: {integer_value}\")\n",
    "    except ValueError:\n",
    "        print(\"Error: The input cannot be converted to an integer.\")\n",
    "\n",
    "# Usage\n",
    "string_to_integer()\n"
   ]
  },
  {
   "cell_type": "code",
   "execution_count": 6,
   "id": "ed1a2a06-d271-44b0-b5f1-d6ac92bb19ca",
   "metadata": {},
   "outputs": [
    {
     "name": "stdin",
     "output_type": "stream",
     "text": [
      "Enter a list of integers separated by spaces:  55 99 66 \n"
     ]
    },
    {
     "name": "stdout",
     "output_type": "stream",
     "text": [
      "All integers are valid.\n"
     ]
    }
   ],
   "source": [
    "def validate_integers():\n",
    "    try:\n",
    "        integers = list(map(int, input(\"Enter a list of integers separated by spaces: \").split()))\n",
    "        for number in integers:\n",
    "            if number < 0:\n",
    "                raise ValueError(\"Negative integers are not allowed.\")\n",
    "        print(\"All integers are valid.\")\n",
    "    except ValueError as e:\n",
    "        print(e)\n",
    "\n",
    "# Usage\n",
    "validate_integers()\n"
   ]
  },
  {
   "cell_type": "code",
   "execution_count": 7,
   "id": "868c7378-7410-4818-9920-c7817d97785e",
   "metadata": {},
   "outputs": [
    {
     "name": "stdin",
     "output_type": "stream",
     "text": [
      "Enter a list of integers separated by spaces:  56 85 96 36 78 11 22 66 99 \n"
     ]
    },
    {
     "name": "stdout",
     "output_type": "stream",
     "text": [
      "Average: 61.0\n",
      "Program has finished running.\n"
     ]
    }
   ],
   "source": [
    "def calculate_average():\n",
    "    try:\n",
    "        integers = list(map(int, input(\"Enter a list of integers separated by spaces: \").split()))\n",
    "        average = sum(integers) / len(integers)\n",
    "        print(f\"Average: {average}\")\n",
    "    except ValueError:\n",
    "        print(\"Error: Please enter valid integers.\")\n",
    "    except ZeroDivisionError:\n",
    "        print(\"Error: Cannot calculate the average of an empty list.\")\n",
    "    finally:\n",
    "        print(\"Program has finished running.\")\n",
    "\n",
    "# Usage\n",
    "calculate_average()\n",
    "\n"
   ]
  },
  {
   "cell_type": "code",
   "execution_count": 8,
   "id": "dc16bf47-52f9-44bc-a36a-0da218b81ca8",
   "metadata": {},
   "outputs": [
    {
     "name": "stdin",
     "output_type": "stream",
     "text": [
      "Enter filename:  excel3.csv\n",
      "Enter text to write to file:  culinary\n"
     ]
    },
    {
     "name": "stdout",
     "output_type": "stream",
     "text": [
      "Welcome! The text has been written successfully.\n"
     ]
    }
   ],
   "source": [
    "def write_to_file():\n",
    "    try:\n",
    "        filename = input(\"Enter filename: \")\n",
    "        text = input(\"Enter text to write to file: \")\n",
    "        with open(filename, 'w') as file:\n",
    "            file.write(text)\n",
    "        print(\"Welcome! The text has been written successfully.\")\n",
    "    except Exception as e:\n",
    "        print(f\"An error occurred: {e}\")\n",
    "\n",
    "# Usage\n",
    "write_to_file()\n"
   ]
  },
  {
   "cell_type": "code",
   "execution_count": 9,
   "id": "12a37b77-4e7e-4dc8-8c5e-a6466e4cfe39",
   "metadata": {},
   "outputs": [
    {
     "name": "stdout",
     "output_type": "stream",
     "text": [
      "Intro to CS: Required for Major = True\n",
      "Art History: Elective Type = liberal arts\n"
     ]
    }
   ],
   "source": [
    "class Course:\n",
    "    def __init__(self, course_code, course_name, credit_hours):\n",
    "        self.course_code = course_code\n",
    "        self.course_name = course_name\n",
    "        self.credit_hours = credit_hours\n",
    "\n",
    "class CoreCourse(Course):\n",
    "    def __init__(self, course_code, course_name, credit_hours, required_for_major):\n",
    "        super().__init__(course_code, course_name, credit_hours)\n",
    "        self.required_for_major = required_for_major\n",
    "\n",
    "class ElectiveCourse(Course):\n",
    "    def __init__(self, course_code, course_name, credit_hours, elective_type):\n",
    "        super().__init__(course_code, course_name, credit_hours)\n",
    "        self.elective_type = elective_type\n",
    "\n",
    "# Usage\n",
    "core = CoreCourse(\"CS101\", \"Intro to CS\", 3, True)\n",
    "elective = ElectiveCourse(\"HUM101\", \"Art History\", 2, \"liberal arts\")\n",
    "print(f\"{core.course_name}: Required for Major = {core.required_for_major}\")\n",
    "print(f\"{elective.course_name}: Elective Type = {elective.elective_type}\")\n"
   ]
  },
  {
   "cell_type": "code",
   "execution_count": 10,
   "id": "2e8f709a-f31b-4d7e-b708-99e033cb9faa",
   "metadata": {},
   "outputs": [],
   "source": [
    "class Employee:\n",
    "    def __init__(self, name, salary):\n",
    "        self.name = name\n",
    "        self.salary = salary\n",
    "\n",
    "    def get_name(self):\n",
    "        return self.name\n",
    "\n",
    "    def get_salary(self):\n",
    "        return self.salary\n"
   ]
  },
  {
   "cell_type": "code",
   "execution_count": null,
   "id": "f33aa858-29fc-44f1-9199-3fa9235cb66b",
   "metadata": {},
   "outputs": [],
   "source": []
  }
 ],
 "metadata": {
  "kernelspec": {
   "display_name": "Python 3 (ipykernel)",
   "language": "python",
   "name": "python3"
  },
  "language_info": {
   "codemirror_mode": {
    "name": "ipython",
    "version": 3
   },
   "file_extension": ".py",
   "mimetype": "text/x-python",
   "name": "python",
   "nbconvert_exporter": "python",
   "pygments_lexer": "ipython3",
   "version": "3.12.4"
  }
 },
 "nbformat": 4,
 "nbformat_minor": 5
}
